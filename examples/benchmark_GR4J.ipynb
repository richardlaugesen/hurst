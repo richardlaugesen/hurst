{
 "cells": [
  {
   "cell_type": "code",
   "execution_count": 1,
   "metadata": {
    "collapsed": true
   },
   "outputs": [],
   "source": [
    "include(\"../src/Hydro.jl\");"
   ]
  },
  {
   "cell_type": "code",
   "execution_count": 6,
   "metadata": {
    "collapsed": true
   },
   "outputs": [],
   "source": [
    "using .Hydro\n",
    "using CSV\n",
    "using DataFrames\n",
    "using BenchmarkTools"
   ]
  },
  {
   "cell_type": "code",
   "execution_count": 7,
   "metadata": {},
   "outputs": [
    {
     "data": {
      "text/plain": [
       "benchmark_timestep (generic function with 1 method)"
      ]
     },
     "execution_count": 7,
     "metadata": {},
     "output_type": "execute_result"
    }
   ],
   "source": [
    "function benchmark_timestep()\n",
    "    pars = gr4j_params_from_array([320.1073, 2.4208, 69.6276, 1.3891])\n",
    "    init_state = gr4j_init_state(pars)\n",
    "    init_state[:production_store] = pars[:x1] * 0.6\n",
    "    init_state[:routing_store] = pars[:x3] * 0.7\n",
    "\n",
    "    @benchmark gr4j_run_step(100, 5, $init_state, $pars)\n",
    "end"
   ]
  },
  {
   "cell_type": "code",
   "execution_count": 8,
   "metadata": {},
   "outputs": [
    {
     "data": {
      "text/plain": [
       "benchmark_simulation (generic function with 1 method)"
      ]
     },
     "execution_count": 8,
     "metadata": {},
     "output_type": "execute_result"
    }
   ],
   "source": [
    "function benchmark_simulation()\n",
    "    pars = gr4j_params_from_array(CSV.read(\"../test/data/test_1_params.csv\", delim=\":\", header=0)[2])\n",
    "    init_state = gr4j_init_state(pars)\n",
    "    init_state[:production_store] = pars[:x1] * 0.6\n",
    "    init_state[:routing_store] = pars[:x3] * 0.7\n",
    "\n",
    "    df = CSV.read(\"../test/data/test_1_data.csv\", header=1)\n",
    "    names!(df, Symbol.([\"date\", \"obs_rain\", \"obs_pet\", \"obs_runoff\", \"test_sim_runoff\"]))\n",
    "    rain = df[:obs_rain]\n",
    "    pet = df[:obs_pet]\n",
    "\n",
    "    @benchmark simulate(gr4j_run_step, $rain, $pet, $pars, $init_state)\n",
    "end"
   ]
  },
  {
   "cell_type": "code",
   "execution_count": 12,
   "metadata": {},
   "outputs": [
    {
     "data": {
      "text/plain": [
       "BenchmarkTools.Trial: \n",
       "  memory estimate:  4.94 KiB\n",
       "  allocs estimate:  101\n",
       "  --------------\n",
       "  minimum time:     13.801 μs (0.00% GC)\n",
       "  median time:      14.744 μs (0.00% GC)\n",
       "  mean time:        17.584 μs (3.63% GC)\n",
       "  maximum time:     3.478 ms (98.84% GC)\n",
       "  --------------\n",
       "  samples:          10000\n",
       "  evals/sample:     1"
      ]
     },
     "execution_count": 12,
     "metadata": {},
     "output_type": "execute_result"
    }
   ],
   "source": [
    "benchmark_timestep()    "
   ]
  },
  {
   "cell_type": "code",
   "execution_count": 11,
   "metadata": {
    "collapsed": true
   },
   "outputs": [],
   "source": [
    "    # ----------------------------------------------------\n",
    "    # Transcription of Fortran version\n",
    "    # ----------------------------------------------------\n",
    "    # BenchmarkTools.Trial:\n",
    "    #   memory estimate:  4.97 KiB\n",
    "    #   allocs estimate:  103\n",
    "    #   --------------\n",
    "    #   minimum time:     13.042 μs (0.00% GC)\n",
    "    #   median time:      14.204 μs (0.00% GC)\n",
    "    #   mean time:        23.081 μs (34.39% GC)\n",
    "    #   maximum time:     63.937 ms (99.87% GC)\n",
    "    #   --------------\n",
    "    #   samples:          10000\n",
    "    #   evals/sample:     1\n",
    "\n",
    "    # ----------------------------------------------------\n",
    "    # Unoptimised for clarity [7% slower]\n",
    "    # Expanding exponents is key optimisation\n",
    "    # ----------------------------------------------------\n",
    "    #\n",
    "    # BenchmarkTools.Trial:\n",
    "    #   memory estimate:  4.94 KiB\n",
    "    #   allocs estimate:  101\n",
    "    #   --------------\n",
    "    #   minimum time:     14.060 μs (0.00% GC)\n",
    "    #   median time:      15.276 μs (0.00% GC)\n",
    "    #   mean time:        25.716 μs (38.08% GC)\n",
    "    #   maximum time:     79.157 ms (99.92% GC)\n",
    "    #   --------------\n",
    "    #   samples:          10000\n",
    "    #   evals/sample:     1"
   ]
  },
  {
   "cell_type": "code",
   "execution_count": 10,
   "metadata": {},
   "outputs": [
    {
     "data": {
      "text/plain": [
       "BenchmarkTools.Trial: \n",
       "  memory estimate:  3.58 MiB\n",
       "  allocs estimate:  76279\n",
       "  --------------\n",
       "  minimum time:     9.916 ms (0.00% GC)\n",
       "  median time:      10.335 ms (0.00% GC)\n",
       "  mean time:        10.871 ms (4.20% GC)\n",
       "  maximum time:     15.792 ms (18.55% GC)\n",
       "  --------------\n",
       "  samples:          460\n",
       "  evals/sample:     1"
      ]
     },
     "execution_count": 10,
     "metadata": {},
     "output_type": "execute_result"
    }
   ],
   "source": [
    "benchmark_simulation()"
   ]
  },
  {
   "cell_type": "code",
   "execution_count": null,
   "metadata": {
    "collapsed": true
   },
   "outputs": [],
   "source": [
    "    # ----------------------------------------------------\n",
    "    # Transcription of Fortran version\n",
    "    # ----------------------------------------------------\n",
    "    #\n",
    "    # BenchmarkTools.Trial:\n",
    "    #   memory estimate:  3.62 MiB\n",
    "    #   allocs estimate:  79415\n",
    "    #   --------------\n",
    "    #   minimum time:     9.496 ms (0.00% GC)\n",
    "    #   median time:      10.112 ms (0.00% GC)\n",
    "    #   mean time:        10.570 ms (5.89% GC)\n",
    "    #   maximum time:     78.309 ms (86.69% GC)\n",
    "    #   --------------\n",
    "    #   samples:          473\n",
    "    #   evals/sample:     1\n",
    "\n",
    "    # ----------------------------------------------------\n",
    "    # Unoptimised for clarity [8% slower]\n",
    "    # Expanding exponents is key optimisation\n",
    "    # ----------------------------------------------------\n",
    "    #\n",
    "    # BenchmarkTools.Trial:\n",
    "    #   memory estimate:  3.59 MiB\n",
    "    #   allocs estimate:  77955\n",
    "    #   --------------\n",
    "    #   minimum time:     10.622 ms (0.00% GC)\n",
    "    #   median time:      10.892 ms (0.00% GC)\n",
    "    #   mean time:        11.700 ms (5.37% GC)\n",
    "    #   maximum time:     21.715 ms (17.32% GC)\n",
    "    #   --------------\n",
    "    #   samples:          428\n",
    "    #   evals/sample:     1"
   ]
  }
 ],
 "metadata": {
  "kernelspec": {
   "display_name": "Julia 1.1.0",
   "language": "julia",
   "name": "julia-1.1"
  },
  "language_info": {
   "file_extension": ".jl",
   "mimetype": "application/julia",
   "name": "julia",
   "version": "1.1.0"
  }
 },
 "nbformat": 4,
 "nbformat_minor": 2
}
